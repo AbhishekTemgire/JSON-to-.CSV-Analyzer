{
  "nbformat": 4,
  "nbformat_minor": 0,
  "metadata": {
    "colab": {
      "provenance": []
    },
    "kernelspec": {
      "name": "python3",
      "display_name": "Python 3"
    },
    "language_info": {
      "name": "python"
    }
  },
  "cells": [
    {
      "cell_type": "code",
      "source": [
        "import csv\n",
        "import json\n",
        "\n",
        "# open JSON file and load data\n",
        "with open('/content/altershala-b01b9-default-rtdb-export.json', 'r') as f:\n",
        "    data = json.load(f)"
      ],
      "metadata": {
        "id": "n4EUt2gEF_2i"
      },
      "execution_count": 32,
      "outputs": []
    },
    {
      "cell_type": "code",
      "source": [
        "# create CSV file and write data\n",
        "with open('output.csv', 'w', newline='') as f:\n",
        "    writer = csv.writer(f)"
      ],
      "metadata": {
        "id": "IodYNL-FKwkR"
      },
      "execution_count": null,
      "outputs": []
    },
    {
      "cell_type": "code",
      "source": [
        "\n",
        "    # write header row\n",
        "    writer.writerow(['Company Name', 'Image URL', 'Job Name', 'Job Type', 'Job URL', 'Location', 'Timestamp', 'Work Type', 'Topic Name', 'Topic URL'])"
      ],
      "metadata": {
        "id": "o_NlOKU-KzDK"
      },
      "execution_count": null,
      "outputs": []
    },
    {
      "cell_type": "code",
      "source": [
        "\n",
        "    # write data rows\n",
        "    for company, details in data['Jobs_Post'].items():\n",
        "        writer.writerow([\n",
        "            details['com_name'],\n",
        "            details['img_url'],\n",
        "            details['job_name'],\n",
        "            details['job_type'],\n",
        "            details['job_url'],\n",
        "            details['location'],\n",
        "            details['timestamp'],\n",
        "            details['work_type'],\n",
        "            '',\n",
        "            ''\n",
        "        ])\n"
      ],
      "metadata": {
        "id": "EHykRAKnK1wj"
      },
      "execution_count": null,
      "outputs": []
    },
    {
      "cell_type": "code",
      "source": [
        "    for subject, topics in data['subject-wise-topics'].items():\n",
        "        for topic, details in topics.items():\n",
        "            writer.writerow([\n",
        "                '',\n",
        "                '',\n",
        "                '',\n",
        "                '',\n",
        "                '',\n",
        "                '',\n",
        "                '',\n",
        "                '',\n",
        "                details['name'],\n",
        "                details['pdfUrl']\n",
        "            ])"
      ],
      "metadata": {
        "id": "YFbULVUFK4X8"
      },
      "execution_count": null,
      "outputs": []
    }
  ]
}