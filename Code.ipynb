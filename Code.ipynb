import csv
import json

# open JSON file and load data
with open('/path/to/json_file.json', 'r') as f:
    data = json.load(f)

# create CSV file and write data
with open('output.csv', 'w', newline='') as f:
    writer = csv.writer(f)

    # write header row
    writer.writerow(['Company Name', 'Image URL', 'Job Name', 'Job Type', 'Job URL', 'Location', 'Timestamp', 'Work Type', 'Topic Name', 'Topic URL'])

    # write data rows
    for company, details in data['Jobs_Post'].items():
        writer.writerow([
            details['com_name'],
            details['img_url'],
            details['job_name'],
            details['job_type'],
            details['job_url'],
            details['location'],
            details['timestamp'],
            details['work_type'],
            '',
            ''
        ])

    for subject, topics in data['subject-wise-topics'].items():
        for topic, details in topics.items():
            writer.writerow([
                '',
                '',
                '',
                '',
                '',
                '',
                '',
                '',
                details['name'],
                details['pdfUrl']
            ])
